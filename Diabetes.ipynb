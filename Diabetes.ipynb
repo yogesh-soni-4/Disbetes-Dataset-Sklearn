{
  "nbformat": 4,
  "nbformat_minor": 0,
  "metadata": {
    "colab": {
      "provenance": []
    },
    "kernelspec": {
      "name": "python3",
      "display_name": "Python 3"
    },
    "language_info": {
      "name": "python"
    }
  },
  "cells": [
    {
      "cell_type": "code",
      "execution_count": null,
      "metadata": {
        "id": "jvmITCi8GLdq"
      },
      "outputs": [],
      "source": [
        "# load the dataset\n",
        "from sklearn.datasets import load_diabetes\n",
        "ld=load_diabetes()\n",
        "x=ld.data\n",
        "y=ld.target"
      ]
    },
    {
      "cell_type": "code",
      "source": [
        "# normalization\n",
        "from sklearn.preprocessing import StandardScaler\n",
        "ss=StandardScaler()\n",
        "x1=ss.fit_transform(x)"
      ],
      "metadata": {
        "id": "PKDUt_UxGVmn"
      },
      "execution_count": null,
      "outputs": []
    },
    {
      "cell_type": "code",
      "source": [
        "# split dataset\n",
        "from sklearn.model_selection import train_test_split\n",
        "xtrain,xtest,ytrain,ytest=train_test_split(x,y,test_size=0.2)"
      ],
      "metadata": {
        "id": "JYRIG3knJVk1"
      },
      "execution_count": null,
      "outputs": []
    },
    {
      "cell_type": "code",
      "source": [
        "#early stopping\n",
        "from keras.callbacks import EarlyStopping\n",
        "es=EarlyStopping(monitor='val_loss',patience=3,mode='auto',min_delta=0.001) # for validation loss, also give validation data"
      ],
      "metadata": {
        "id": "6ljgYYbky8cl"
      },
      "execution_count": null,
      "outputs": []
    },
    {
      "cell_type": "code",
      "source": [
        "# create the model\n",
        "from keras.models import Sequential\n",
        "from keras.layers import Dense\n",
        "model=Sequential()\n",
        "model.add(Dense(8,activation='relu',input_dim=10))\n",
        "model.add(Dense(4,activation='relu'))\n",
        "model.add(Dense(6,activation='relu'))\n",
        "model.add(Dense(1,activation='relu'))\n",
        "model.compile(optimizer='adam',loss='mean_squared_error',metrics=['accuracy'])"
      ],
      "metadata": {
        "id": "KKJ5iQzxHwxr"
      },
      "execution_count": null,
      "outputs": []
    },
    {
      "cell_type": "code",
      "source": [
        "# train the model\n",
        "hs=model.fit(xtrain,ytrain,epochs=1000,validation_data=(xtest,ytest),callbacks=[es])"
      ],
      "metadata": {
        "colab": {
          "base_uri": "https://localhost:8080/"
        },
        "id": "ipsjVXUvJIlz",
        "outputId": "7741c160-fd67-4ef5-e4b4-aace5058b5ac"
      },
      "execution_count": null,
      "outputs": [
        {
          "output_type": "stream",
          "name": "stdout",
          "text": [
            "Epoch 1/1000\n",
            "12/12 [==============================] - 1s 17ms/step - loss: 28060.0742 - accuracy: 0.0000e+00 - val_loss: 33079.2148 - val_accuracy: 0.0000e+00\n",
            "Epoch 2/1000\n",
            "12/12 [==============================] - 0s 4ms/step - loss: 28049.5469 - accuracy: 0.0000e+00 - val_loss: 33065.6836 - val_accuracy: 0.0000e+00\n",
            "Epoch 3/1000\n",
            "12/12 [==============================] - 0s 4ms/step - loss: 28037.5293 - accuracy: 0.0000e+00 - val_loss: 33052.1172 - val_accuracy: 0.0000e+00\n",
            "Epoch 4/1000\n",
            "12/12 [==============================] - 0s 4ms/step - loss: 28025.0137 - accuracy: 0.0000e+00 - val_loss: 33037.8555 - val_accuracy: 0.0000e+00\n",
            "Epoch 5/1000\n",
            "12/12 [==============================] - 0s 5ms/step - loss: 28011.2285 - accuracy: 0.0000e+00 - val_loss: 33021.2734 - val_accuracy: 0.0000e+00\n",
            "Epoch 6/1000\n",
            "12/12 [==============================] - 0s 4ms/step - loss: 27994.6660 - accuracy: 0.0000e+00 - val_loss: 33001.1602 - val_accuracy: 0.0000e+00\n",
            "Epoch 7/1000\n",
            "12/12 [==============================] - 0s 5ms/step - loss: 27974.6562 - accuracy: 0.0000e+00 - val_loss: 32976.5469 - val_accuracy: 0.0000e+00\n",
            "Epoch 8/1000\n",
            "12/12 [==============================] - 0s 4ms/step - loss: 27949.4102 - accuracy: 0.0000e+00 - val_loss: 32944.9453 - val_accuracy: 0.0000e+00\n",
            "Epoch 9/1000\n",
            "12/12 [==============================] - 0s 4ms/step - loss: 27918.2266 - accuracy: 0.0000e+00 - val_loss: 32906.8203 - val_accuracy: 0.0000e+00\n",
            "Epoch 10/1000\n",
            "12/12 [==============================] - 0s 4ms/step - loss: 27880.0176 - accuracy: 0.0000e+00 - val_loss: 32859.4141 - val_accuracy: 0.0000e+00\n",
            "Epoch 11/1000\n",
            "12/12 [==============================] - 0s 4ms/step - loss: 27833.7305 - accuracy: 0.0000e+00 - val_loss: 32802.6836 - val_accuracy: 0.0000e+00\n",
            "Epoch 12/1000\n",
            "12/12 [==============================] - 0s 5ms/step - loss: 27780.0898 - accuracy: 0.0000e+00 - val_loss: 32740.0254 - val_accuracy: 0.0000e+00\n",
            "Epoch 13/1000\n",
            "12/12 [==============================] - 0s 4ms/step - loss: 27720.0176 - accuracy: 0.0000e+00 - val_loss: 32666.5508 - val_accuracy: 0.0000e+00\n",
            "Epoch 14/1000\n",
            "12/12 [==============================] - 0s 4ms/step - loss: 27649.8320 - accuracy: 0.0000e+00 - val_loss: 32581.4551 - val_accuracy: 0.0000e+00\n",
            "Epoch 15/1000\n",
            "12/12 [==============================] - 0s 5ms/step - loss: 27568.6523 - accuracy: 0.0000e+00 - val_loss: 32483.2637 - val_accuracy: 0.0000e+00\n",
            "Epoch 16/1000\n",
            "12/12 [==============================] - 0s 4ms/step - loss: 27476.7871 - accuracy: 0.0000e+00 - val_loss: 32376.1289 - val_accuracy: 0.0000e+00\n",
            "Epoch 17/1000\n",
            "12/12 [==============================] - 0s 4ms/step - loss: 27376.8809 - accuracy: 0.0000e+00 - val_loss: 32253.9355 - val_accuracy: 0.0000e+00\n",
            "Epoch 18/1000\n",
            "12/12 [==============================] - 0s 4ms/step - loss: 27258.0586 - accuracy: 0.0000e+00 - val_loss: 32111.6035 - val_accuracy: 0.0000e+00\n",
            "Epoch 19/1000\n",
            "12/12 [==============================] - 0s 4ms/step - loss: 27123.9609 - accuracy: 0.0000e+00 - val_loss: 31957.0332 - val_accuracy: 0.0000e+00\n",
            "Epoch 20/1000\n",
            "12/12 [==============================] - 0s 4ms/step - loss: 26983.4766 - accuracy: 0.0000e+00 - val_loss: 31785.2871 - val_accuracy: 0.0000e+00\n",
            "Epoch 21/1000\n",
            "12/12 [==============================] - 0s 4ms/step - loss: 26822.3145 - accuracy: 0.0000e+00 - val_loss: 31594.3379 - val_accuracy: 0.0000e+00\n",
            "Epoch 22/1000\n",
            "12/12 [==============================] - 0s 4ms/step - loss: 26640.5352 - accuracy: 0.0000e+00 - val_loss: 31373.4023 - val_accuracy: 0.0000e+00\n",
            "Epoch 23/1000\n",
            "12/12 [==============================] - 0s 4ms/step - loss: 26439.4336 - accuracy: 0.0000e+00 - val_loss: 31139.9551 - val_accuracy: 0.0000e+00\n",
            "Epoch 24/1000\n",
            "12/12 [==============================] - 0s 4ms/step - loss: 26217.8574 - accuracy: 0.0000e+00 - val_loss: 30864.8672 - val_accuracy: 0.0000e+00\n",
            "Epoch 25/1000\n",
            "12/12 [==============================] - 0s 5ms/step - loss: 25967.9863 - accuracy: 0.0000e+00 - val_loss: 30579.3027 - val_accuracy: 0.0000e+00\n",
            "Epoch 26/1000\n",
            "12/12 [==============================] - 0s 4ms/step - loss: 25703.5215 - accuracy: 0.0000e+00 - val_loss: 30259.7734 - val_accuracy: 0.0000e+00\n",
            "Epoch 27/1000\n",
            "12/12 [==============================] - 0s 4ms/step - loss: 25410.2383 - accuracy: 0.0000e+00 - val_loss: 29917.7305 - val_accuracy: 0.0000e+00\n",
            "Epoch 28/1000\n",
            "12/12 [==============================] - 0s 4ms/step - loss: 25091.5273 - accuracy: 0.0000e+00 - val_loss: 29522.8457 - val_accuracy: 0.0000e+00\n",
            "Epoch 29/1000\n",
            "12/12 [==============================] - 0s 5ms/step - loss: 24727.8066 - accuracy: 0.0000e+00 - val_loss: 29106.0508 - val_accuracy: 0.0000e+00\n",
            "Epoch 30/1000\n",
            "12/12 [==============================] - 0s 4ms/step - loss: 24339.5391 - accuracy: 0.0000e+00 - val_loss: 28640.9043 - val_accuracy: 0.0000e+00\n",
            "Epoch 31/1000\n",
            "12/12 [==============================] - 0s 5ms/step - loss: 23903.6406 - accuracy: 0.0000e+00 - val_loss: 28121.4375 - val_accuracy: 0.0000e+00\n",
            "Epoch 32/1000\n",
            "12/12 [==============================] - 0s 5ms/step - loss: 23440.0547 - accuracy: 0.0000e+00 - val_loss: 27588.7070 - val_accuracy: 0.0000e+00\n",
            "Epoch 33/1000\n",
            "12/12 [==============================] - 0s 5ms/step - loss: 22954.3457 - accuracy: 0.0000e+00 - val_loss: 27011.1973 - val_accuracy: 0.0000e+00\n",
            "Epoch 34/1000\n",
            "12/12 [==============================] - 0s 4ms/step - loss: 22440.8711 - accuracy: 0.0000e+00 - val_loss: 26401.3828 - val_accuracy: 0.0000e+00\n",
            "Epoch 35/1000\n",
            "12/12 [==============================] - 0s 5ms/step - loss: 21881.0156 - accuracy: 0.0000e+00 - val_loss: 25745.1934 - val_accuracy: 0.0000e+00\n",
            "Epoch 36/1000\n",
            "12/12 [==============================] - 0s 4ms/step - loss: 21284.6113 - accuracy: 0.0000e+00 - val_loss: 25037.5625 - val_accuracy: 0.0000e+00\n",
            "Epoch 37/1000\n",
            "12/12 [==============================] - 0s 4ms/step - loss: 20633.8848 - accuracy: 0.0000e+00 - val_loss: 24296.0977 - val_accuracy: 0.0000e+00\n",
            "Epoch 38/1000\n",
            "12/12 [==============================] - 0s 4ms/step - loss: 19999.2910 - accuracy: 0.0000e+00 - val_loss: 23539.7891 - val_accuracy: 0.0000e+00\n",
            "Epoch 39/1000\n",
            "12/12 [==============================] - 0s 4ms/step - loss: 19308.4570 - accuracy: 0.0000e+00 - val_loss: 22729.1426 - val_accuracy: 0.0000e+00\n",
            "Epoch 40/1000\n",
            "12/12 [==============================] - 0s 4ms/step - loss: 18604.6562 - accuracy: 0.0000e+00 - val_loss: 21891.1230 - val_accuracy: 0.0000e+00\n",
            "Epoch 41/1000\n",
            "12/12 [==============================] - 0s 4ms/step - loss: 17851.0059 - accuracy: 0.0000e+00 - val_loss: 21031.6016 - val_accuracy: 0.0000e+00\n",
            "Epoch 42/1000\n",
            "12/12 [==============================] - 0s 5ms/step - loss: 17127.0840 - accuracy: 0.0000e+00 - val_loss: 20188.7129 - val_accuracy: 0.0000e+00\n",
            "Epoch 43/1000\n",
            "12/12 [==============================] - 0s 4ms/step - loss: 16374.5059 - accuracy: 0.0000e+00 - val_loss: 19313.3379 - val_accuracy: 0.0000e+00\n",
            "Epoch 44/1000\n",
            "12/12 [==============================] - 0s 4ms/step - loss: 15607.5469 - accuracy: 0.0000e+00 - val_loss: 18401.8730 - val_accuracy: 0.0000e+00\n",
            "Epoch 45/1000\n",
            "12/12 [==============================] - 0s 4ms/step - loss: 14816.3877 - accuracy: 0.0000e+00 - val_loss: 17452.9043 - val_accuracy: 0.0000e+00\n",
            "Epoch 46/1000\n",
            "12/12 [==============================] - 0s 4ms/step - loss: 14029.8643 - accuracy: 0.0000e+00 - val_loss: 16530.1562 - val_accuracy: 0.0000e+00\n",
            "Epoch 47/1000\n",
            "12/12 [==============================] - 0s 4ms/step - loss: 13218.3281 - accuracy: 0.0000e+00 - val_loss: 15547.0908 - val_accuracy: 0.0000e+00\n",
            "Epoch 48/1000\n",
            "12/12 [==============================] - 0s 4ms/step - loss: 12412.6631 - accuracy: 0.0000e+00 - val_loss: 14663.0459 - val_accuracy: 0.0000e+00\n",
            "Epoch 49/1000\n",
            "12/12 [==============================] - 0s 7ms/step - loss: 11702.6299 - accuracy: 0.0000e+00 - val_loss: 13853.2373 - val_accuracy: 0.0000e+00\n",
            "Epoch 50/1000\n",
            "12/12 [==============================] - 0s 4ms/step - loss: 11046.8018 - accuracy: 0.0000e+00 - val_loss: 13035.5566 - val_accuracy: 0.0000e+00\n",
            "Epoch 51/1000\n",
            "12/12 [==============================] - 0s 4ms/step - loss: 10346.3037 - accuracy: 0.0000e+00 - val_loss: 12152.0420 - val_accuracy: 0.0000e+00\n",
            "Epoch 52/1000\n",
            "12/12 [==============================] - 0s 5ms/step - loss: 9630.1113 - accuracy: 0.0000e+00 - val_loss: 11366.1504 - val_accuracy: 0.0000e+00\n",
            "Epoch 53/1000\n",
            "12/12 [==============================] - 0s 3ms/step - loss: 8992.2783 - accuracy: 0.0000e+00 - val_loss: 10609.0010 - val_accuracy: 0.0000e+00\n",
            "Epoch 54/1000\n",
            "12/12 [==============================] - 0s 4ms/step - loss: 8408.4980 - accuracy: 0.0000e+00 - val_loss: 9907.4648 - val_accuracy: 0.0000e+00\n",
            "Epoch 55/1000\n",
            "12/12 [==============================] - 0s 4ms/step - loss: 7902.9414 - accuracy: 0.0000e+00 - val_loss: 9321.4717 - val_accuracy: 0.0000e+00\n",
            "Epoch 56/1000\n",
            "12/12 [==============================] - 0s 5ms/step - loss: 7454.7275 - accuracy: 0.0000e+00 - val_loss: 8764.4287 - val_accuracy: 0.0000e+00\n",
            "Epoch 57/1000\n",
            "12/12 [==============================] - 0s 4ms/step - loss: 7022.1338 - accuracy: 0.0000e+00 - val_loss: 8227.5713 - val_accuracy: 0.0000e+00\n",
            "Epoch 58/1000\n",
            "12/12 [==============================] - 0s 4ms/step - loss: 6609.8833 - accuracy: 0.0000e+00 - val_loss: 7707.1533 - val_accuracy: 0.0000e+00\n",
            "Epoch 59/1000\n",
            "12/12 [==============================] - 0s 4ms/step - loss: 6239.5000 - accuracy: 0.0000e+00 - val_loss: 7269.2964 - val_accuracy: 0.0000e+00\n",
            "Epoch 60/1000\n",
            "12/12 [==============================] - 0s 4ms/step - loss: 5946.0093 - accuracy: 0.0000e+00 - val_loss: 6891.1221 - val_accuracy: 0.0000e+00\n",
            "Epoch 61/1000\n",
            "12/12 [==============================] - 0s 4ms/step - loss: 5692.8374 - accuracy: 0.0000e+00 - val_loss: 6562.8862 - val_accuracy: 0.0000e+00\n",
            "Epoch 62/1000\n",
            "12/12 [==============================] - 0s 4ms/step - loss: 5460.2988 - accuracy: 0.0000e+00 - val_loss: 6207.0854 - val_accuracy: 0.0000e+00\n",
            "Epoch 63/1000\n",
            "12/12 [==============================] - 0s 6ms/step - loss: 5235.6416 - accuracy: 0.0000e+00 - val_loss: 5942.7681 - val_accuracy: 0.0000e+00\n",
            "Epoch 64/1000\n",
            "12/12 [==============================] - 0s 4ms/step - loss: 5060.1313 - accuracy: 0.0000e+00 - val_loss: 5656.9819 - val_accuracy: 0.0000e+00\n",
            "Epoch 65/1000\n",
            "12/12 [==============================] - 0s 4ms/step - loss: 4910.1758 - accuracy: 0.0000e+00 - val_loss: 5465.8569 - val_accuracy: 0.0000e+00\n",
            "Epoch 66/1000\n",
            "12/12 [==============================] - 0s 4ms/step - loss: 4793.7026 - accuracy: 0.0000e+00 - val_loss: 5324.3071 - val_accuracy: 0.0000e+00\n",
            "Epoch 67/1000\n",
            "12/12 [==============================] - 0s 4ms/step - loss: 4703.4331 - accuracy: 0.0000e+00 - val_loss: 5188.7495 - val_accuracy: 0.0000e+00\n",
            "Epoch 68/1000\n",
            "12/12 [==============================] - 0s 6ms/step - loss: 4629.5815 - accuracy: 0.0000e+00 - val_loss: 5053.3770 - val_accuracy: 0.0000e+00\n",
            "Epoch 69/1000\n",
            "12/12 [==============================] - 0s 4ms/step - loss: 4558.0381 - accuracy: 0.0000e+00 - val_loss: 4951.0542 - val_accuracy: 0.0000e+00\n",
            "Epoch 70/1000\n",
            "12/12 [==============================] - 0s 4ms/step - loss: 4507.1270 - accuracy: 0.0000e+00 - val_loss: 4870.2935 - val_accuracy: 0.0000e+00\n",
            "Epoch 71/1000\n",
            "12/12 [==============================] - 0s 4ms/step - loss: 4452.7568 - accuracy: 0.0000e+00 - val_loss: 4751.3706 - val_accuracy: 0.0000e+00\n",
            "Epoch 72/1000\n",
            "12/12 [==============================] - 0s 4ms/step - loss: 4406.1650 - accuracy: 0.0000e+00 - val_loss: 4676.1724 - val_accuracy: 0.0000e+00\n",
            "Epoch 73/1000\n",
            "12/12 [==============================] - 0s 4ms/step - loss: 4360.7847 - accuracy: 0.0000e+00 - val_loss: 4581.2930 - val_accuracy: 0.0000e+00\n",
            "Epoch 74/1000\n",
            "12/12 [==============================] - 0s 4ms/step - loss: 4327.7544 - accuracy: 0.0000e+00 - val_loss: 4531.4707 - val_accuracy: 0.0000e+00\n",
            "Epoch 75/1000\n",
            "12/12 [==============================] - 0s 4ms/step - loss: 4304.4663 - accuracy: 0.0000e+00 - val_loss: 4472.8257 - val_accuracy: 0.0000e+00\n",
            "Epoch 76/1000\n",
            "12/12 [==============================] - 0s 4ms/step - loss: 4275.9878 - accuracy: 0.0000e+00 - val_loss: 4429.6479 - val_accuracy: 0.0000e+00\n",
            "Epoch 77/1000\n",
            "12/12 [==============================] - 0s 4ms/step - loss: 4256.7568 - accuracy: 0.0000e+00 - val_loss: 4393.3989 - val_accuracy: 0.0000e+00\n",
            "Epoch 78/1000\n",
            "12/12 [==============================] - 0s 5ms/step - loss: 4242.0488 - accuracy: 0.0000e+00 - val_loss: 4371.8892 - val_accuracy: 0.0000e+00\n",
            "Epoch 79/1000\n",
            "12/12 [==============================] - 0s 4ms/step - loss: 4222.6392 - accuracy: 0.0000e+00 - val_loss: 4332.5396 - val_accuracy: 0.0000e+00\n",
            "Epoch 80/1000\n",
            "12/12 [==============================] - 0s 4ms/step - loss: 4205.0317 - accuracy: 0.0000e+00 - val_loss: 4309.6479 - val_accuracy: 0.0000e+00\n",
            "Epoch 81/1000\n",
            "12/12 [==============================] - 0s 6ms/step - loss: 4188.8467 - accuracy: 0.0000e+00 - val_loss: 4284.5996 - val_accuracy: 0.0000e+00\n",
            "Epoch 82/1000\n",
            "12/12 [==============================] - 0s 4ms/step - loss: 4173.9761 - accuracy: 0.0000e+00 - val_loss: 4260.1758 - val_accuracy: 0.0000e+00\n",
            "Epoch 83/1000\n",
            "12/12 [==============================] - 0s 4ms/step - loss: 4158.4272 - accuracy: 0.0000e+00 - val_loss: 4226.3062 - val_accuracy: 0.0000e+00\n",
            "Epoch 84/1000\n",
            "12/12 [==============================] - 0s 5ms/step - loss: 4142.6211 - accuracy: 0.0000e+00 - val_loss: 4215.5864 - val_accuracy: 0.0000e+00\n",
            "Epoch 85/1000\n",
            "12/12 [==============================] - 0s 4ms/step - loss: 4133.9907 - accuracy: 0.0000e+00 - val_loss: 4232.6836 - val_accuracy: 0.0000e+00\n",
            "Epoch 86/1000\n",
            "12/12 [==============================] - 0s 4ms/step - loss: 4121.0947 - accuracy: 0.0000e+00 - val_loss: 4230.3066 - val_accuracy: 0.0000e+00\n",
            "Epoch 87/1000\n",
            "12/12 [==============================] - 0s 5ms/step - loss: 4107.9468 - accuracy: 0.0000e+00 - val_loss: 4219.4814 - val_accuracy: 0.0000e+00\n"
          ]
        }
      ]
    },
    {
      "cell_type": "code",
      "source": [
        "hs"
      ],
      "metadata": {
        "colab": {
          "base_uri": "https://localhost:8080/"
        },
        "id": "xlgvsfbj4V51",
        "outputId": "405be9bd-c3d9-488f-f17f-a5a51cf17920"
      },
      "execution_count": null,
      "outputs": [
        {
          "output_type": "execute_result",
          "data": {
            "text/plain": [
              "<keras.callbacks.History at 0x7f7a902e3bb0>"
            ]
          },
          "metadata": {},
          "execution_count": 38
        }
      ]
    },
    {
      "cell_type": "code",
      "source": [
        "# prdict from the trained model\n",
        "ypred=model.predict(xtest)\n",
        "ypred"
      ],
      "metadata": {
        "colab": {
          "base_uri": "https://localhost:8080/"
        },
        "id": "puDZJUKqJ4sa",
        "outputId": "7eba2f6d-3d42-4688-f867-2e0d6bcb7b39"
      },
      "execution_count": null,
      "outputs": [
        {
          "output_type": "stream",
          "name": "stdout",
          "text": [
            "3/3 [==============================] - 0s 3ms/step\n"
          ]
        },
        {
          "output_type": "execute_result",
          "data": {
            "text/plain": [
              "array([[125.32114 ],\n",
              "       [160.60666 ],\n",
              "       [179.96364 ],\n",
              "       [111.40602 ],\n",
              "       [159.09999 ],\n",
              "       [135.3785  ],\n",
              "       [152.48802 ],\n",
              "       [164.5248  ],\n",
              "       [172.00517 ],\n",
              "       [179.08284 ],\n",
              "       [169.01889 ],\n",
              "       [174.20456 ],\n",
              "       [161.8846  ],\n",
              "       [134.07108 ],\n",
              "       [172.5236  ],\n",
              "       [128.09842 ],\n",
              "       [152.1901  ],\n",
              "       [189.8354  ],\n",
              "       [183.92482 ],\n",
              "       [133.98834 ],\n",
              "       [162.48492 ],\n",
              "       [174.42395 ],\n",
              "       [200.77864 ],\n",
              "       [153.97371 ],\n",
              "       [108.72458 ],\n",
              "       [151.18782 ],\n",
              "       [176.71097 ],\n",
              "       [150.31636 ],\n",
              "       [112.99779 ],\n",
              "       [169.5894  ],\n",
              "       [130.33945 ],\n",
              "       [130.23592 ],\n",
              "       [177.56308 ],\n",
              "       [167.50401 ],\n",
              "       [143.69524 ],\n",
              "       [100.736465],\n",
              "       [112.922714],\n",
              "       [154.43843 ],\n",
              "       [180.64273 ],\n",
              "       [174.5246  ],\n",
              "       [173.86613 ],\n",
              "       [136.50653 ],\n",
              "       [172.90877 ],\n",
              "       [119.90524 ],\n",
              "       [174.70766 ],\n",
              "       [121.10434 ],\n",
              "       [169.50182 ],\n",
              "       [177.98294 ],\n",
              "       [141.57036 ],\n",
              "       [130.6648  ],\n",
              "       [145.78497 ],\n",
              "       [187.60365 ],\n",
              "       [119.21865 ],\n",
              "       [195.94545 ],\n",
              "       [110.35327 ],\n",
              "       [154.89047 ],\n",
              "       [160.72595 ],\n",
              "       [184.18057 ],\n",
              "       [168.89917 ],\n",
              "       [107.18738 ],\n",
              "       [128.844   ],\n",
              "       [181.27122 ],\n",
              "       [177.39397 ],\n",
              "       [122.10397 ],\n",
              "       [121.88506 ],\n",
              "       [168.21794 ],\n",
              "       [152.07423 ],\n",
              "       [169.38611 ],\n",
              "       [167.27486 ],\n",
              "       [115.72276 ],\n",
              "       [181.33675 ],\n",
              "       [168.26016 ],\n",
              "       [150.85487 ],\n",
              "       [126.08829 ],\n",
              "       [153.02592 ],\n",
              "       [173.04294 ],\n",
              "       [146.14792 ],\n",
              "       [199.14897 ],\n",
              "       [158.70287 ],\n",
              "       [175.73878 ],\n",
              "       [112.52841 ],\n",
              "       [145.66118 ],\n",
              "       [118.96953 ],\n",
              "       [198.11511 ],\n",
              "       [146.02762 ],\n",
              "       [ 99.90423 ],\n",
              "       [164.83322 ],\n",
              "       [167.8403  ],\n",
              "       [158.02135 ]], dtype=float32)"
            ]
          },
          "metadata": {},
          "execution_count": 39
        }
      ]
    },
    {
      "cell_type": "code",
      "source": [
        "# checking accuracy of the prediction\n",
        "from sklearn.metrics import r2_score\n",
        "accuracy=r2_score(ytest,ypred)\n",
        "# accuracy"
      ],
      "metadata": {
        "colab": {
          "base_uri": "https://localhost:8080/"
        },
        "id": "FaewUkfbKFx1",
        "outputId": "d643f28c-0587-4603-da6c-70f172f303c8"
      },
      "execution_count": null,
      "outputs": [
        {
          "output_type": "execute_result",
          "data": {
            "text/plain": [
              "0.31401529844947496"
            ]
          },
          "metadata": {},
          "execution_count": 40
        }
      ]
    },
    {
      "cell_type": "code",
      "source": [
        "hs.history.keys()"
      ],
      "metadata": {
        "colab": {
          "base_uri": "https://localhost:8080/"
        },
        "id": "8q_8hUljB2QG",
        "outputId": "3dc0bd2f-e137-4db0-d7d9-63a7d3ce0872"
      },
      "execution_count": null,
      "outputs": [
        {
          "output_type": "execute_result",
          "data": {
            "text/plain": [
              "dict_keys(['loss', 'accuracy', 'val_loss', 'val_accuracy'])"
            ]
          },
          "metadata": {},
          "execution_count": 41
        }
      ]
    },
    {
      "cell_type": "code",
      "source": [
        "import matplotlib.pyplot as plt\n",
        "plt.plot(hs.history['val_loss'])\n",
        "plt.plot(hs.history['loss'])"
      ],
      "metadata": {
        "colab": {
          "base_uri": "https://localhost:8080/",
          "height": 283
        },
        "id": "PSIvO5mlBavJ",
        "outputId": "965b9778-c980-4cbf-b833-9a241c598eba"
      },
      "execution_count": null,
      "outputs": [
        {
          "output_type": "execute_result",
          "data": {
            "text/plain": [
              "[<matplotlib.lines.Line2D at 0x7f7a8fa261c0>]"
            ]
          },
          "metadata": {},
          "execution_count": 42
        },
        {
          "output_type": "display_data",
          "data": {
            "text/plain": [
              "<Figure size 432x288 with 1 Axes>"
            ],
            "image/png": "[encoded data removed]"
          },
          "metadata": {
            "needs_background": "light"
          }
        }
      ]
    },
    {
      "cell_type": "code",
      "source": [],
      "metadata": {
        "id": "3ziNREFqCTs1"
      },
      "execution_count": null,
      "outputs": []
    },
    {
      "cell_type": "code",
      "source": [],
      "metadata": {
        "id": "92STZKusCaUC"
      },
      "execution_count": null,
      "outputs": []
    }
  ]
}